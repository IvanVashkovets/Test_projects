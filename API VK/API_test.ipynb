{
 "cells": [
  {
   "cell_type": "markdown",
   "metadata": {},
   "source": [
    "Адрес страницы - https://vk.com/ivanvashkovets"
   ]
  },
  {
   "cell_type": "markdown",
   "metadata": {},
   "source": [
    "# Исследование факторов влияющих на количество лайков "
   ]
  },
  {
   "cell_type": "markdown",
   "metadata": {},
   "source": [
    "## Задача"
   ]
  },
  {
   "cell_type": "markdown",
   "metadata": {},
   "source": [
    "1. Выполнить запрос по API к странице ВК с датой постов и количеством лайков. Сформировать таблицу из полученных данных;\n",
    "2. К полученной таблице написать SQL-запросы для определения факторов в большей степени влияющих на количество лайков:\n",
    "   \n",
    "    - время суток публикации;\n",
    "    - день недели;\n",
    "    - промежуток между постами."
   ]
  },
  {
   "cell_type": "markdown",
   "metadata": {},
   "source": [
    "### Формирование таблицы"
   ]
  },
  {
   "cell_type": "code",
   "execution_count": 1,
   "metadata": {},
   "outputs": [],
   "source": [
    "#импорт библиотек\n",
    "import vk_api\n",
    "import csv\n",
    "import pandas as pd\n",
    "from datetime import datetime\n",
    "from pandasql import sqldf\n",
    "import seaborn as sns\n",
    "sns.set()\n",
    "import matplotlib.pyplot as plt"
   ]
  },
  {
   "cell_type": "code",
   "execution_count": 2,
   "metadata": {},
   "outputs": [],
   "source": [
    "#подключение API\n",
    "token = '***'\n",
    "vk_session = vk_api.VkApi(token=token)\n",
    "vk = vk_session.get_api()"
   ]
  },
  {
   "cell_type": "code",
   "execution_count": 3,
   "metadata": {},
   "outputs": [],
   "source": [
    "#получение id страницы\n",
    "page_id = vk.users.get()[0]['id']"
   ]
  },
  {
   "cell_type": "code",
   "execution_count": 4,
   "metadata": {},
   "outputs": [],
   "source": [
    "#получение списка всех постов\n",
    "wall = vk.wall.get(owner_id=page_id, count=100)"
   ]
  },
  {
   "cell_type": "code",
   "execution_count": 5,
   "metadata": {},
   "outputs": [],
   "source": [
    "#создание объекта\n",
    "with open('posts.csv', 'w', newline='', encoding='utf-8') as csvfile:\n",
    "    fieldnames = ['date', 'likes']\n",
    "    writer = csv.DictWriter(csvfile, fieldnames=fieldnames)\n",
    "    writer.writeheader()\n",
    "#цикл по всем постам\n",
    "    for post in wall['items']:\n",
    "        #условие, что пост не является репостом или оставленным другим человеком\n",
    "        if 'copy_history' not in post and post['from_id'] == page_id:\n",
    "            post_date = datetime.fromtimestamp(post['date']).strftime('%Y-%m-%d %H:%M:%S')\n",
    "            post_likes = post['likes']['count']\n",
    "            writer.writerow({'date': post_date, 'likes': post_likes})"
   ]
  },
  {
   "cell_type": "code",
   "execution_count": 6,
   "metadata": {},
   "outputs": [
    {
     "data": {
      "text/html": [
       "<div>\n",
       "<style scoped>\n",
       "    .dataframe tbody tr th:only-of-type {\n",
       "        vertical-align: middle;\n",
       "    }\n",
       "\n",
       "    .dataframe tbody tr th {\n",
       "        vertical-align: top;\n",
       "    }\n",
       "\n",
       "    .dataframe thead th {\n",
       "        text-align: right;\n",
       "    }\n",
       "</style>\n",
       "<table border=\"1\" class=\"dataframe\">\n",
       "  <thead>\n",
       "    <tr style=\"text-align: right;\">\n",
       "      <th></th>\n",
       "      <th>date</th>\n",
       "      <th>likes</th>\n",
       "    </tr>\n",
       "  </thead>\n",
       "  <tbody>\n",
       "    <tr>\n",
       "      <th>1</th>\n",
       "      <td>2023-06-20 16:39:51</td>\n",
       "      <td>17</td>\n",
       "    </tr>\n",
       "    <tr>\n",
       "      <th>2</th>\n",
       "      <td>2023-03-15 22:32:44</td>\n",
       "      <td>14</td>\n",
       "    </tr>\n",
       "    <tr>\n",
       "      <th>3</th>\n",
       "      <td>2022-09-11 20:29:15</td>\n",
       "      <td>50</td>\n",
       "    </tr>\n",
       "    <tr>\n",
       "      <th>4</th>\n",
       "      <td>2022-03-14 22:08:35</td>\n",
       "      <td>36</td>\n",
       "    </tr>\n",
       "    <tr>\n",
       "      <th>5</th>\n",
       "      <td>2022-03-09 10:58:43</td>\n",
       "      <td>20</td>\n",
       "    </tr>\n",
       "  </tbody>\n",
       "</table>\n",
       "</div>"
      ],
      "text/plain": [
       "                  date  likes\n",
       "1  2023-06-20 16:39:51     17\n",
       "2  2023-03-15 22:32:44     14\n",
       "3  2022-09-11 20:29:15     50\n",
       "4  2022-03-14 22:08:35     36\n",
       "5  2022-03-09 10:58:43     20"
      ]
     },
     "execution_count": 6,
     "metadata": {},
     "output_type": "execute_result"
    }
   ],
   "source": [
    "#чтение датафрейма\n",
    "df = pd.read_csv('C:/Users/User/My Jupyter Projects/posts.csv').sort_values(by=['date'], ascending=False)\n",
    "#чек\n",
    "df.head()"
   ]
  },
  {
   "cell_type": "markdown",
   "metadata": {},
   "source": [
    "Из данных исключены посты, которые являлись перепостами или постами других людей на стене, ввиду того, что репосты меньше (либо вовсе) не транслируются в ленте, тем самым число лайков заметно меньше."
   ]
  },
  {
   "cell_type": "markdown",
   "metadata": {},
   "source": [
    "### SQL запросы"
   ]
  },
  {
   "cell_type": "markdown",
   "metadata": {},
   "source": [
    "#### Влияние времени суток публикации на количество лайков"
   ]
  },
  {
   "cell_type": "code",
   "execution_count": 7,
   "metadata": {},
   "outputs": [],
   "source": [
    "#запрос\n",
    "query = '''\n",
    "    SELECT strftime('%H', date) as hour, AVG(likes) likes\n",
    "    FROM df\n",
    "    GROUP BY strftime('%H', date)\n",
    "'''\n",
    "result = sqldf(query, locals())"
   ]
  },
  {
   "cell_type": "code",
   "execution_count": 8,
   "metadata": {},
   "outputs": [
    {
     "data": {
      "image/png": "[encoded data removed]",
      "text/plain": [
       "<Figure size 720x432 with 1 Axes>"
      ]
     },
     "metadata": {
      "needs_background": "light"
     },
     "output_type": "display_data"
    }
   ],
   "source": [
    "#визуализация\n",
    "fig = plt.figure(figsize=(10, 6))\n",
    "plt.bar(result.hour, result.likes)\n",
    "plt.xlabel('Время суток')\n",
    "plt.ylabel('Среднее количество лайков')\n",
    "plt.title('Зависимость среднего количества лайков от времени суток')\n",
    "plt.show()"
   ]
  },
  {
   "cell_type": "markdown",
   "metadata": {},
   "source": [
    "Наибольшее число лайков приходится на 18:00, вероятно это связано с окончанием рабочего дня. с 2 до 5 утра - отсутствие активности. Также отмечаются всплески активности в 7, 12 и 15 часов. "
   ]
  },
  {
   "cell_type": "markdown",
   "metadata": {},
   "source": [
    "#### Влияние дня недели на количество лайков"
   ]
  },
  {
   "cell_type": "code",
   "execution_count": 9,
   "metadata": {},
   "outputs": [],
   "source": [
    "#запрос\n",
    "query2 = '''\n",
    "    SELECT strftime('%w', date) as weekday, AVG(likes) likes\n",
    "    FROM df\n",
    "    GROUP BY strftime('%w', date)\n",
    "'''\n",
    "result2 = sqldf(query2, locals())"
   ]
  },
  {
   "cell_type": "code",
   "execution_count": 16,
   "metadata": {},
   "outputs": [
    {
     "data": {
      "image/png": "[encoded data removed]",
      "text/plain": [
       "<Figure size 720x432 with 1 Axes>"
      ]
     },
     "metadata": {
      "needs_background": "light"
     },
     "output_type": "display_data"
    }
   ],
   "source": [
    "#визуализация\n",
    "fig = plt.figure(figsize=(10, 6))\n",
    "plt.bar(result2.weekday, result2.likes)\n",
    "plt.xlabel('День недели, где 0 - воскресение')\n",
    "plt.ylabel('Среднее количество лайков')\n",
    "plt.title('Зависимость среднего количества лайков от дня недели')\n",
    "plt.show()"
   ]
  },
  {
   "cell_type": "markdown",
   "metadata": {},
   "source": [
    "Наибольшая активность отмечается в пятницу, также видно снижение активности от вторника к четвергу."
   ]
  },
  {
   "cell_type": "markdown",
   "metadata": {},
   "source": [
    "#### Влияние промежутка между постами на количество лайков"
   ]
  },
  {
   "cell_type": "code",
   "execution_count": 11,
   "metadata": {},
   "outputs": [],
   "source": [
    "#запрос\n",
    "query3 = '''\n",
    "    SELECT days_interval, AVG(likes) AS likes\n",
    "    FROM \n",
    "        (SELECT \n",
    "            julianday(date) - julianday((SELECT MAX(date) FROM df WHERE date < t.date)) AS days_interval,\n",
    "            likes\n",
    "        FROM \n",
    "            df t\n",
    "        ) t\n",
    "    GROUP BY days_interval;\n",
    "'''\n",
    "result3 = sqldf(query3, locals())"
   ]
  },
  {
   "cell_type": "code",
   "execution_count": 12,
   "metadata": {},
   "outputs": [
    {
     "data": {
      "image/png": "[encoded data removed]",
      "text/plain": [
       "<Figure size 720x432 with 1 Axes>"
      ]
     },
     "metadata": {
      "needs_background": "light"
     },
     "output_type": "display_data"
    }
   ],
   "source": [
    "#визуализация\n",
    "fig = plt.figure(figsize=(10, 6))\n",
    "plt.scatter(result3['days_interval'], result3['likes'])\n",
    "plt.xlabel('Временной промежуток')\n",
    "plt.ylabel('Среднее количество лайков')\n",
    "plt.title('Связь временных промежутков и лайков')\n",
    "plt.show()"
   ]
  },
  {
   "cell_type": "markdown",
   "metadata": {},
   "source": [
    "Наибольшее число событий в пределах 25 дней. "
   ]
  },
  {
   "cell_type": "code",
   "execution_count": 13,
   "metadata": {},
   "outputs": [],
   "source": [
    "#срез данных\n",
    "temp = result3.query('likes < 50 & days_interval < 30')"
   ]
  },
  {
   "cell_type": "code",
   "execution_count": 14,
   "metadata": {},
   "outputs": [
    {
     "data": {
      "image/png": "[encoded data removed]",
      "text/plain": [
       "<Figure size 720x432 with 1 Axes>"
      ]
     },
     "metadata": {
      "needs_background": "light"
     },
     "output_type": "display_data"
    }
   ],
   "source": [
    "#визуализация\n",
    "fig = plt.figure(figsize=(10, 6))\n",
    "plt.scatter(temp['days_interval'], temp['likes'])\n",
    "plt.xlabel('Временной промежуток')\n",
    "plt.ylabel('Среднее количество лайков')\n",
    "plt.title('Связь временных промежутков и лайков')\n",
    "plt.show()"
   ]
  },
  {
   "cell_type": "markdown",
   "metadata": {},
   "source": [
    "Утверждение, что увеличение временного промежут приводит к увеличению или уменьшению количества лайков не находит отражения. Вероятно, в связи с недостаточным числом событий (постов), а также в неравномерном их распределении."
   ]
  },
  {
   "cell_type": "markdown",
   "metadata": {},
   "source": [
    "## Общий вывод"
   ]
  },
  {
   "cell_type": "markdown",
   "metadata": {},
   "source": [
    "Задачами данного исследование являлось получение данных по API из социальной сети VK, формирование таблицы, а также при помощи SQL-запросов определение факторов в наибольшей степени влияющих на количество лайков. Для исследования была использована страница https://vk.com/ivanvashkovets. Распределение публикаций имеет неравномерный характер и установить прямую зависимость между временным промежутком и числом лайков неудалось. Однако, отмечается увеличение числа лайков, в зависимости от времени суток и дня недели. Так наилучшие позицию по дню недели занимает - \"пятница\", а по времени суток - \"18:00\". Также отмечен тренд снижения пользовательской активности от вторника к четвергу."
   ]
  },
  {
   "cell_type": "code",
   "execution_count": null,
   "metadata": {},
   "outputs": [],
   "source": []
  }
 ],
 "metadata": {
  "kernelspec": {
   "display_name": "Python 3",
   "language": "python",
   "name": "python3"
  },
  "language_info": {
   "codemirror_mode": {
    "name": "ipython",
    "version": 3
   },
   "file_extension": ".py",
   "mimetype": "text/x-python",
   "name": "python",
   "nbconvert_exporter": "python",
   "pygments_lexer": "ipython3",
   "version": "3.7.0"
  }
 },
 "nbformat": 4,
 "nbformat_minor": 2
}
